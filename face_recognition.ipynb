{
 "cells": [
  {
   "cell_type": "code",
   "execution_count": 1,
   "metadata": {},
   "outputs": [],
   "source": [
    "import os\n",
    "import numpy as np\n",
    "import pandas as pd\n",
    "import matplotlib.image as img\n",
    "from PIL import Image\n",
    "from matplotlib.pyplot import imshow\n",
    "%matplotlib inline"
   ]
  },
  {
   "cell_type": "code",
   "execution_count": 2,
   "metadata": {},
   "outputs": [],
   "source": [
    "def load_image_vector(path):\n",
    "    image =  Image.open(path).convert('L') # Image to grayscale\n",
    "    matrix = np.array(image).astype(int)\n",
    "    print(matrix.shape)\n",
    "    column_vector = matrix.flatten()\n",
    "    return column_vector\n",
    "\n",
    "def load_images(path):\n",
    "    images = []\n",
    "    for fname in os.listdir(path):\n",
    "        images.append(load_image_vector('/'.join([path, fname])))\n",
    "        print(fname)\n",
    "    return np.array(images)\n",
    "\n",
    "def compute_mean_vector(vectors):\n",
    "    return sum(vectors)/len(vectors)\n",
    "\n",
    "def vec_to_img(vec):\n",
    "    return Image.fromarray(np.reshape(vec, (126, 88))).convert('RGB')"
   ]
  },
  {
   "cell_type": "code",
   "execution_count": 3,
   "metadata": {},
   "outputs": [],
   "source": [
    "photos_path = './data/train'"
   ]
  },
  {
   "cell_type": "code",
   "execution_count": 4,
   "metadata": {},
   "outputs": [
    {
     "name": "stdout",
     "output_type": "stream",
     "text": [
      "(126, 88)\n",
      "1.jpg\n",
      "(126, 88)\n",
      "2.jpg\n"
     ]
    }
   ],
   "source": [
    "image_vectors = load_images(photos_path)"
   ]
  },
  {
   "cell_type": "code",
   "execution_count": 5,
   "metadata": {},
   "outputs": [
    {
     "data": {
      "image/png": "[encoded data removed]",
      "text/plain": [
       "<PIL.Image.Image image mode=RGB size=88x126 at 0x7F3220F5B7B8>"
      ]
     },
     "execution_count": 5,
     "metadata": {},
     "output_type": "execute_result"
    }
   ],
   "source": [
    "mean_face = compute_mean_vector(image_vectors)\n",
    "mean_face_matrix = np.reshape(mean_face, (126, 88))\n",
    "mean_face_image = Image.fromarray(mean_face_matrix).convert('RGB')\n",
    "mean_face_image"
   ]
  },
  {
   "cell_type": "code",
   "execution_count": 6,
   "metadata": {},
   "outputs": [
    {
     "data": {
      "text/plain": [
       "((11088, 2), 1)"
      ]
     },
     "execution_count": 6,
     "metadata": {},
     "output_type": "execute_result"
    }
   ],
   "source": [
    "residual_vectors = np.array([f - mean_face for f in image_vectors]).T\n",
    "rank = np.linalg.matrix_rank(residual_vectors)\n",
    "residual_vectors.shape, rank"
   ]
  },
  {
   "cell_type": "code",
   "execution_count": 45,
   "metadata": {},
   "outputs": [
    {
     "data": {
      "text/plain": [
       "array([[-5.15719212e-04,  9.75847563e-01,  1.60920122e-03, ...,\n",
       "        -2.31315679e-05, -1.15657839e-05,  5.78289196e-06],\n",
       "       [-1.13458227e-03,  9.20297261e-06, -6.19175774e-03, ...,\n",
       "        -3.99082838e-04, -1.99541419e-04,  9.97707094e-05],\n",
       "       [-4.43518522e-03, -1.86774879e-03,  9.99968815e-01, ...,\n",
       "        -2.57142059e-06, -1.28571029e-06,  6.42855146e-07],\n",
       "       ...,\n",
       "       [-4.12575370e-04,  3.34653549e-06, -1.80530611e-06, ...,\n",
       "         9.99999831e-01, -8.43051026e-08,  4.21525513e-08],\n",
       "       [-2.06287685e-04,  1.67326775e-06, -9.02653055e-07, ...,\n",
       "        -8.43051026e-08,  9.99999958e-01,  2.10762756e-08],\n",
       "       [ 1.03143842e-04, -8.36633873e-07,  4.51326527e-07, ...,\n",
       "         4.21525513e-08,  2.10762756e-08,  9.99999989e-01]])"
      ]
     },
     "execution_count": 45,
     "metadata": {},
     "output_type": "execute_result"
    }
   ],
   "source": [
    "u, s, vh = np.linalg.svd(residual_vectors, full_matrices=True)\n",
    "face_basis = u\n",
    "face_basis"
   ]
  },
  {
   "cell_type": "code",
   "execution_count": 46,
   "metadata": {},
   "outputs": [
    {
     "name": "stdout",
     "output_type": "stream",
     "text": [
      "Base faces\n"
     ]
    },
    {
     "data": {
      "image/png": "[encoded data removed]",
      "text/plain": [
       "<PIL.Image.Image image mode=RGB size=88x126 at 0x7F32185CF5F8>"
      ]
     },
     "execution_count": 46,
     "metadata": {},
     "output_type": "execute_result"
    }
   ],
   "source": [
    "print('Base faces')\n",
    "vec_to_img(face_basis[0, :])"
   ]
  },
  {
   "cell_type": "code",
   "execution_count": 47,
   "metadata": {},
   "outputs": [],
   "source": [
    "def scalar_projection(vector, mean_vector, basis):\n",
    "    return basis.T.dot((vector - mean_vector))"
   ]
  },
  {
   "cell_type": "code",
   "execution_count": 48,
   "metadata": {},
   "outputs": [
    {
     "data": {
      "text/plain": [
       "(2, 11088)"
      ]
     },
     "execution_count": 48,
     "metadata": {},
     "output_type": "execute_result"
    }
   ],
   "source": [
    "train_projections = np.array([scalar_projection(im, mean_face, face_basis) for im in residual_vectors.T])\n",
    "train_projections.shape"
   ]
  },
  {
   "cell_type": "code",
   "execution_count": 49,
   "metadata": {},
   "outputs": [
    {
     "name": "stdout",
     "output_type": "stream",
     "text": [
      "(126, 88)\n"
     ]
    },
    {
     "data": {
      "text/plain": [
       "(11088,)"
      ]
     },
     "execution_count": 49,
     "metadata": {},
     "output_type": "execute_result"
    }
   ],
   "source": [
    "test_faces_path = './data/test'\n",
    "test_face = load_image_vector(f'{test_faces_path}/1.jpg')\n",
    "test_face.shape"
   ]
  },
  {
   "cell_type": "code",
   "execution_count": 50,
   "metadata": {},
   "outputs": [
    {
     "data": {
      "text/plain": [
       "(11088,)"
      ]
     },
     "execution_count": 50,
     "metadata": {},
     "output_type": "execute_result"
    }
   ],
   "source": [
    "test_face_projection = scalar_projection(test_face, mean_face, face_basis)\n",
    "test_face_projection.shape"
   ]
  },
  {
   "cell_type": "code",
   "execution_count": 51,
   "metadata": {},
   "outputs": [],
   "source": [
    "def norm_2(v1, v2):\n",
    "    return np.sqrt((v1-v2).T.dot(v1-v2))\n",
    "\n",
    "def distance_from_face_space(v1, mean_face, basis):\n",
    "    fp = basis.dot(v1)\n",
    "    return norm_2(v1-mean_face, fp)\n",
    "    \n",
    "def distance_in_face_space(v1, v2):\n",
    "    return norm_2(v1, v2)\n",
    "    "
   ]
  },
  {
   "cell_type": "code",
   "execution_count": 53,
   "metadata": {},
   "outputs": [
    {
     "name": "stdout",
     "output_type": "stream",
     "text": [
      "Distance from face space 14642.3828038537\n",
      "0 12906.005322389889\n",
      "1 18374.761280345043\n"
     ]
    }
   ],
   "source": [
    "print('Distance from face space', distance_from_face_space(test_face_projection, mean_face, face_basis))\n",
    "for i, im in enumerate(train_projections):\n",
    "    prj = scalar_projection(im, mean_face, face_basis)\n",
    "    print(i, distance_in_face_space(im, prj))"
   ]
  },
  {
   "cell_type": "code",
   "execution_count": null,
   "metadata": {},
   "outputs": [],
   "source": []
  },
  {
   "cell_type": "code",
   "execution_count": null,
   "metadata": {},
   "outputs": [],
   "source": []
  }
 ],
 "metadata": {
  "kernelspec": {
   "display_name": "Python 3",
   "language": "python",
   "name": "python3"
  },
  "language_info": {
   "codemirror_mode": {
    "name": "ipython",
    "version": 3
   },
   "file_extension": ".py",
   "mimetype": "text/x-python",
   "name": "python",
   "nbconvert_exporter": "python",
   "pygments_lexer": "ipython3",
   "version": "3.6.4"
  }
 },
 "nbformat": 4,
 "nbformat_minor": 2
}
