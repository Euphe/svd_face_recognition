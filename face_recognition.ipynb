{
 "cells": [
  {
   "cell_type": "code",
   "execution_count": 1,
   "metadata": {},
   "outputs": [],
   "source": [
    "import os\n",
    "import numpy as np\n",
    "import pandas as pd\n",
    "import matplotlib.image as img\n",
    "from PIL import Image\n",
    "from matplotlib.pyplot import imshow\n",
    "%matplotlib inline"
   ]
  },
  {
   "cell_type": "code",
   "execution_count": 2,
   "metadata": {},
   "outputs": [],
   "source": [
    "IMG_SIZE = (88, 126)\n",
    "def load_image_vector(path):\n",
    "    image =  Image.open(path).convert('L').resize(IMG_SIZE) # Image to grayscale\n",
    "    matrix = np.array(image).astype(int)\n",
    "    print(matrix.shape)\n",
    "    column_vector = matrix.flatten()\n",
    "    return column_vector\n",
    "\n",
    "def load_images(path):\n",
    "    images = []\n",
    "    for fname in os.listdir(path):\n",
    "        images.append(load_image_vector('/'.join([path, fname])))\n",
    "        print(fname)\n",
    "    return np.array(images)\n",
    "\n",
    "def compute_mean_vector(vectors):\n",
    "    return sum(vectors)/len(vectors)\n",
    "\n",
    "def vec_to_img(vec):\n",
    "    return Image.fromarray(np.reshape(vec, (126, 88))).convert('RGB')"
   ]
  },
  {
   "cell_type": "code",
   "execution_count": 3,
   "metadata": {},
   "outputs": [],
   "source": [
    "photos_path = './data/train'"
   ]
  },
  {
   "cell_type": "code",
   "execution_count": 4,
   "metadata": {},
   "outputs": [
    {
     "name": "stdout",
     "output_type": "stream",
     "text": [
      "(126, 88)\n",
      "Sasha.jpeg\n",
      "(126, 88)\n",
      "1.jpg\n",
      "(126, 88)\n",
      "чб 126-88.jpg\n",
      "(126, 88)\n",
      "Linara.jpg\n",
      "(126, 88)\n",
      "2.jpg\n"
     ]
    }
   ],
   "source": [
    "image_vectors = load_images(photos_path)"
   ]
  },
  {
   "cell_type": "code",
   "execution_count": 5,
   "metadata": {},
   "outputs": [
    {
     "data": {
      "image/png": "[encoded data removed]",
      "text/plain": [
       "<PIL.Image.Image image mode=RGB size=88x126 at 0x7FE265364C88>"
      ]
     },
     "execution_count": 5,
     "metadata": {},
     "output_type": "execute_result"
    }
   ],
   "source": [
    "mean_face = compute_mean_vector(image_vectors)\n",
    "mean_face_matrix = np.reshape(mean_face, (126, 88))\n",
    "mean_face_image = Image.fromarray(mean_face_matrix).convert('RGB')\n",
    "mean_face_image"
   ]
  },
  {
   "cell_type": "code",
   "execution_count": 15,
   "metadata": {},
   "outputs": [
    {
     "data": {
      "text/plain": [
       "((11088, 5), 4)"
      ]
     },
     "execution_count": 15,
     "metadata": {},
     "output_type": "execute_result"
    }
   ],
   "source": [
    "residual_vectors = np.array([f - mean_face for f in image_vectors]).T\n",
    "rank = np.linalg.matrix_rank(residual_vectors)\n",
    "residual_vectors.shape, rank"
   ]
  },
  {
   "cell_type": "code",
   "execution_count": 64,
   "metadata": {},
   "outputs": [
    {
     "data": {
      "text/plain": [
       "(11088, 11088)"
      ]
     },
     "execution_count": 64,
     "metadata": {},
     "output_type": "execute_result"
    }
   ],
   "source": [
    "u, s, vh = np.linalg.svd(residual_vectors, full_matrices=True)\n",
    "face_basis = u\n",
    "face_basis.shape"
   ]
  },
  {
   "cell_type": "code",
   "execution_count": 65,
   "metadata": {},
   "outputs": [
    {
     "data": {
      "text/plain": [
       "array([[-1.55945629e-02,  1.30244149e-03,  1.15842874e-02, ...,\n",
       "        -8.79928172e-03, -4.68264189e-03, -5.20930356e-03],\n",
       "       [-1.55780109e-02,  9.82844870e-04,  1.08292837e-02, ...,\n",
       "         7.96636022e-03,  6.58740348e-03,  3.72753515e-03],\n",
       "       [-1.59447061e-02, -2.62199967e-04,  6.44932288e-03, ...,\n",
       "        -2.77776535e-03,  1.53020171e-03, -2.44398076e-03],\n",
       "       ...,\n",
       "       [ 3.27243603e-03,  1.01666269e-02, -1.25023381e-02, ...,\n",
       "         9.99535082e-01, -4.50002944e-04, -3.64850054e-04],\n",
       "       [ 8.75768432e-03,  6.32808519e-03, -1.18082420e-02, ...,\n",
       "        -4.26859645e-04,  9.99545789e-01, -3.49746061e-04],\n",
       "       [ 7.91690942e-03,  4.77560548e-03, -1.00814879e-02, ...,\n",
       "        -3.50485877e-04, -3.80128541e-04,  9.99675430e-01]])"
      ]
     },
     "execution_count": 65,
     "metadata": {},
     "output_type": "execute_result"
    }
   ],
   "source": [
    "face_basis"
   ]
  },
  {
   "cell_type": "code",
   "execution_count": 87,
   "metadata": {},
   "outputs": [
    {
     "name": "stdout",
     "output_type": "stream",
     "text": [
      "Base faces\n"
     ]
    },
    {
     "data": {
      "image/png": "[encoded data removed]",
      "text/plain": [
       "<PIL.Image.Image image mode=RGB size=88x126 at 0x7FE25C99A208>"
      ]
     },
     "execution_count": 87,
     "metadata": {},
     "output_type": "execute_result"
    }
   ],
   "source": [
    "print('Base faces')    \n",
    "def norm_face_vec(v):\n",
    "    return v/np.max(v) * 255\n",
    "vec_to_img(norm_face_vec(face_basis[:, 0]))"
   ]
  },
  {
   "cell_type": "code",
   "execution_count": 88,
   "metadata": {},
   "outputs": [],
   "source": [
    "def scalar_projection(vector, mean_vector, basis):\n",
    "    return basis.T.dot((vector - mean_vector))"
   ]
  },
  {
   "cell_type": "code",
   "execution_count": 89,
   "metadata": {},
   "outputs": [
    {
     "data": {
      "text/plain": [
       "(5, 11088)"
      ]
     },
     "execution_count": 89,
     "metadata": {},
     "output_type": "execute_result"
    }
   ],
   "source": [
    "train_projections = np.array([scalar_projection(im, mean_face, face_basis) for im in residual_vectors.T])\n",
    "train_projections.shape"
   ]
  },
  {
   "cell_type": "code",
   "execution_count": 99,
   "metadata": {},
   "outputs": [
    {
     "name": "stdout",
     "output_type": "stream",
     "text": [
      "(126, 88)\n"
     ]
    },
    {
     "data": {
      "text/plain": [
       "array([168, 169, 170, ...,  41,  42,  44])"
      ]
     },
     "execution_count": 99,
     "metadata": {},
     "output_type": "execute_result"
    }
   ],
   "source": [
    "test_faces_path = './data/test'\n",
    "test_face = load_image_vector(f'{test_faces_path}/1.jpg')\n",
    "test_face.shape\n",
    "vec_to_img(test_face)"
   ]
  },
  {
   "cell_type": "code",
   "execution_count": 91,
   "metadata": {},
   "outputs": [
    {
     "data": {
      "text/plain": [
       "(11088,)"
      ]
     },
     "execution_count": 91,
     "metadata": {},
     "output_type": "execute_result"
    }
   ],
   "source": [
    "test_face_projection = scalar_projection(test_face, mean_face, face_basis)\n",
    "test_face_projection.shape"
   ]
  },
  {
   "cell_type": "code",
   "execution_count": 92,
   "metadata": {},
   "outputs": [],
   "source": [
    "def norm_2(v1, v2):\n",
    "    return np.sqrt((v1-v2).T.dot(v1-v2))\n",
    "\n",
    "def distance_from_face_space(v1, mean_face, basis):\n",
    "    fp = basis.dot(v1)\n",
    "    return norm_2(v1-mean_face, fp)\n",
    "    \n",
    "def distance_in_face_space(v1, v2):\n",
    "    return norm_2(v1, v2)\n",
    "    "
   ]
  },
  {
   "cell_type": "code",
   "execution_count": 93,
   "metadata": {},
   "outputs": [
    {
     "name": "stdout",
     "output_type": "stream",
     "text": [
      "Distance from face space 15241.964026209616\n",
      "0 17912.426650604353\n",
      "1 13907.558854395438\n",
      "2 14043.414914764939\n",
      "3 17005.473914294547\n",
      "4 18134.353964242415\n"
     ]
    }
   ],
   "source": [
    "print('Distance from face space', distance_from_face_space(test_face_projection, mean_face, face_basis))\n",
    "for i, im in enumerate(train_projections):\n",
    "    prj = scalar_projection(im, mean_face, face_basis)\n",
    "    print(i, distance_in_face_space(im, prj))"
   ]
  },
  {
   "cell_type": "code",
   "execution_count": null,
   "metadata": {},
   "outputs": [],
   "source": []
  },
  {
   "cell_type": "code",
   "execution_count": null,
   "metadata": {},
   "outputs": [],
   "source": []
  }
 ],
 "metadata": {
  "kernelspec": {
   "display_name": "Python 3",
   "language": "python",
   "name": "python3"
  },
  "language_info": {
   "codemirror_mode": {
    "name": "ipython",
    "version": 3
   },
   "file_extension": ".py",
   "mimetype": "text/x-python",
   "name": "python",
   "nbconvert_exporter": "python",
   "pygments_lexer": "ipython3",
   "version": "3.6.4"
  }
 },
 "nbformat": 4,
 "nbformat_minor": 2
}
